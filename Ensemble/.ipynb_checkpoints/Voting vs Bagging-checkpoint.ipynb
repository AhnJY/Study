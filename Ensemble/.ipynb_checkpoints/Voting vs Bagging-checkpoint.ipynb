{
 "cells": [
  {
   "cell_type": "markdown",
   "id": "dc6ebd40",
   "metadata": {},
   "source": [
    "### Ensamble Learning?\n",
    "- 여러 개의 분류기(Classifier)를 생성하고, 그 예측을 결합함으로써 더 정확한 예측을 도출하는 기법\n",
    "- 다수 모델들을 결합하여 단일 모델을 보완\n",
    "- 성능이 떨어지지만 서로 다른 유형의 모델들을 섞으면 오히려 성능이 향상되기도 함"
   ]
  },
  {
   "cell_type": "markdown",
   "id": "5451084a",
   "metadata": {},
   "source": [
    "### Voting vs Bagging\n",
    "- 여러 개의 분류기가 투표를 통해 최종 예측 결과를 결정하는 방식\n",
    "- Voting : 서로 다른 알고리즘을 가진 분류기가 같은 데이터 셋을 기반으로 학습\n",
    "- Bagging : 같은 알고리즘 유형의 모델들이지만 데이터 샘플링을 다르게 하여 학습 (단, 교차 검증과는 다르게 데이터 세트간의 중첩을 허용)"
   ]
  },
  {
   "cell_type": "code",
   "execution_count": null,
   "id": "0c6763b6",
   "metadata": {},
   "outputs": [],
   "source": []
  }
 ],
 "metadata": {
  "kernelspec": {
   "display_name": "Python 3 (ipykernel)",
   "language": "python",
   "name": "python3"
  },
  "language_info": {
   "codemirror_mode": {
    "name": "ipython",
    "version": 3
   },
   "file_extension": ".py",
   "mimetype": "text/x-python",
   "name": "python",
   "nbconvert_exporter": "python",
   "pygments_lexer": "ipython3",
   "version": "3.9.12"
  }
 },
 "nbformat": 4,
 "nbformat_minor": 5
}
