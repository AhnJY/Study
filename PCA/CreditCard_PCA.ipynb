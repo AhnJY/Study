{
 "cells": [
  {
   "cell_type": "markdown",
   "id": "faf0208b-9167-4d4f-af88-634f0a3acc28",
   "metadata": {},
   "source": [
    "## Credit Card Client PCA"
   ]
  },
  {
   "cell_type": "code",
   "execution_count": null,
   "id": "74ab6573-3a7c-49de-8324-ee578cf38b7d",
   "metadata": {},
   "outputs": [],
   "source": []
  }
 ],
 "metadata": {
  "kernelspec": {
   "display_name": "Python 3 (ipykernel)",
   "language": "python",
   "name": "python3"
  },
  "language_info": {
   "codemirror_mode": {
    "name": "ipython",
    "version": 3
   },
   "file_extension": ".py",
   "mimetype": "text/x-python",
   "name": "python",
   "nbconvert_exporter": "python",
   "pygments_lexer": "ipython3",
   "version": "3.9.13"
  }
 },
 "nbformat": 4,
 "nbformat_minor": 5
}
