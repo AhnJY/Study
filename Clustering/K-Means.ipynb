{
 "cells": [
  {
   "cell_type": "markdown",
   "id": "8b6409ec-9f15-41a1-a77b-33e58109a582",
   "metadata": {},
   "source": [
    "## K-Means\n",
    "- 장점\n",
    "    - 일반적인 군집화에서 가장 많이 활용\n",
    "    - 알고리즘이 쉽고 간결\n",
    "    - 대용량 데이터에도 활용 가능\n",
    "- 단점\n",
    "    - 거리 기반 알고리즘으로 속성의 개수가 매우 많을 경우 군집화 정확도 하락 -> PCA 적용\n",
    "    - 반복 횟수가 많을 경우 수행시간이 느려짐\n",
    "    - 이상치(Outlier)데이터에 취약\n",
    "- 주요 파라미터\n",
    "    - n_clusters : 군집화할 개수, 군집 중심점의 개수\n",
    "    - init : 초기에 군집 중심점의 좌표를 설정할 방식. 보통은 임의로 중심을 설정하지 않고, 일반적으로 k-means++ 방식으로 최초 설정\n",
    "    - max_iter : 최대 반복 회수. 이 회수 이전에 모든 데이터의 중심점 이동이 없으면 종료\n",
    "- 주요 속성\n",
    "    - labels_ : 각 데이터 포인트가 속한 군집 중심점 레이블\n",
    "    - cluster_centers : 각 군집 중심점 좌표. 군집 중심점 좌표 시각화 가능"
   ]
  },
  {
   "cell_type": "code",
   "execution_count": null,
   "id": "199c5cd9-948e-456f-b8e6-0d3dd93b25b9",
   "metadata": {},
   "outputs": [],
   "source": []
  }
 ],
 "metadata": {
  "kernelspec": {
   "display_name": "Python 3 (ipykernel)",
   "language": "python",
   "name": "python3"
  },
  "language_info": {
   "codemirror_mode": {
    "name": "ipython",
    "version": 3
   },
   "file_extension": ".py",
   "mimetype": "text/x-python",
   "name": "python",
   "nbconvert_exporter": "python",
   "pygments_lexer": "ipython3",
   "version": "3.9.13"
  }
 },
 "nbformat": 4,
 "nbformat_minor": 5
}
