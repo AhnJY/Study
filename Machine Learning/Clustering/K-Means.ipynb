{
 "cells": [
  {
   "cell_type": "markdown",
   "id": "8b6409ec-9f15-41a1-a77b-33e58109a582",
   "metadata": {},
   "source": [
    "## K-Means\n",
    "- 장점\n",
    "    - 일반적인 군집화에서 가장 많이 활용\n",
    "    - 알고리즘이 쉽고 간결\n",
    "    - 대용량 데이터에도 활용 가능\n",
    "- 단점\n",
    "    - 거리 기반 알고리즘으로 속성의 개수가 매우 많을 경우 군집화 정확도 하락 -> PCA 적용\n",
    "    - 반복 횟수가 많을 경우 수행시간이 느려짐\n",
    "    - 이상치(Outlier)데이터에 취약\n",
    "- 주요 파라미터\n",
    "    - n_clusters : 군집화할 개수, 군집 중심점의 개수\n",
    "    - init : 초기에 군집 중심점의 좌표를 설정할 방식. 보통은 임의로 중심을 설정하지 않고, 일반적으로 k-means++ 방식으로 최초 설정\n",
    "    - max_iter : 최대 반복 회수. 이 회수 이전에 모든 데이터의 중심점 이동이 없으면 종료\n",
    "- 주요 속성\n",
    "    - labels_ : 각 데이터 포인트가 속한 군집 중심점 레이블\n",
    "    - cluster_centers : 각 군집 중심점 좌표. 군집 중심점 좌표 시각화 가능"
   ]
  },
  {
   "cell_type": "markdown",
   "id": "89ab7046-b15b-4007-9346-86d322baf038",
   "metadata": {},
   "source": [
    "## K-Mean를 이용한 붓꽃 데이터 셋 군집화"
   ]
  },
  {
   "cell_type": "code",
   "execution_count": 3,
   "id": "57b651ad-8f73-471a-80cc-c8926d55a967",
   "metadata": {},
   "outputs": [
    {
     "name": "stdout",
     "output_type": "stream",
     "text": [
      "target name : ['setosa' 'versicolor' 'virginica']\n"
     ]
    },
    {
     "data": {
      "text/html": [
       "<div>\n",
       "<style scoped>\n",
       "    .dataframe tbody tr th:only-of-type {\n",
       "        vertical-align: middle;\n",
       "    }\n",
       "\n",
       "    .dataframe tbody tr th {\n",
       "        vertical-align: top;\n",
       "    }\n",
       "\n",
       "    .dataframe thead th {\n",
       "        text-align: right;\n",
       "    }\n",
       "</style>\n",
       "<table border=\"1\" class=\"dataframe\">\n",
       "  <thead>\n",
       "    <tr style=\"text-align: right;\">\n",
       "      <th></th>\n",
       "      <th>sepal_length</th>\n",
       "      <th>sepal_width</th>\n",
       "      <th>petal_length</th>\n",
       "      <th>petal_width</th>\n",
       "    </tr>\n",
       "  </thead>\n",
       "  <tbody>\n",
       "    <tr>\n",
       "      <th>0</th>\n",
       "      <td>5.1</td>\n",
       "      <td>3.5</td>\n",
       "      <td>1.4</td>\n",
       "      <td>0.2</td>\n",
       "    </tr>\n",
       "    <tr>\n",
       "      <th>1</th>\n",
       "      <td>4.9</td>\n",
       "      <td>3.0</td>\n",
       "      <td>1.4</td>\n",
       "      <td>0.2</td>\n",
       "    </tr>\n",
       "    <tr>\n",
       "      <th>2</th>\n",
       "      <td>4.7</td>\n",
       "      <td>3.2</td>\n",
       "      <td>1.3</td>\n",
       "      <td>0.2</td>\n",
       "    </tr>\n",
       "  </tbody>\n",
       "</table>\n",
       "</div>"
      ],
      "text/plain": [
       "   sepal_length  sepal_width  petal_length  petal_width\n",
       "0           5.1          3.5           1.4          0.2\n",
       "1           4.9          3.0           1.4          0.2\n",
       "2           4.7          3.2           1.3          0.2"
      ]
     },
     "execution_count": 3,
     "metadata": {},
     "output_type": "execute_result"
    }
   ],
   "source": [
    "from sklearn.preprocessing import scale\n",
    "from sklearn.datasets import load_iris\n",
    "from sklearn.cluster import KMeans\n",
    "import matplotlib.pyplot as plt\n",
    "import numpy as np\n",
    "import pandas as pd\n",
    "%matplotlib inline\n",
    "\n",
    "iris = load_iris()\n",
    "print('target name :', iris.target_names)\n",
    "\n",
    "irisDF = pd.DataFrame(data=iris.data, columns = ['sepal_length', 'sepal_width', 'petal_length', 'petal_width'])\n",
    "irisDF.head(3)"
   ]
  },
  {
   "cell_type": "markdown",
   "id": "d3d6894f-3989-469f-8b3c-bb65c8acecf8",
   "metadata": {},
   "source": [
    "### KMeans 객체를 생성하고 군집화 수행\n",
    "- labels_ 속성을 통해 각 데이터 포인트별로 할당된 군집 중심점(Centroid)확인\n",
    "- fit_predict(), fit_transform() 수행 결과 확인"
   ]
  },
  {
   "cell_type": "code",
   "execution_count": null,
   "id": "5fe4b6d8-bbaa-4e1a-b0db-e39266b82181",
   "metadata": {},
   "outputs": [],
   "source": [
    "kmeans = KMeans(n_clusters = 3, init = 'k-menas++', max_iter = 300, random_state = 0)\n",
    "kmeans"
   ]
  }
 ],
 "metadata": {
  "kernelspec": {
   "display_name": "Python 3 (ipykernel)",
   "language": "python",
   "name": "python3"
  },
  "language_info": {
   "codemirror_mode": {
    "name": "ipython",
    "version": 3
   },
   "file_extension": ".py",
   "mimetype": "text/x-python",
   "name": "python",
   "nbconvert_exporter": "python",
   "pygments_lexer": "ipython3",
   "version": "3.9.12"
  }
 },
 "nbformat": 4,
 "nbformat_minor": 5
}
