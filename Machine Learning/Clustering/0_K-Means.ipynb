{
 "cells": [
  {
   "cell_type": "markdown",
   "id": "8b6409ec-9f15-41a1-a77b-33e58109a582",
   "metadata": {},
   "source": [
    "## K-Means\n",
    "- 장점\n",
    "    - 일반적인 군집화에서 가장 많이 활용\n",
    "    - 알고리즘이 쉽고 간결\n",
    "    - 대용량 데이터에도 활용 가능\n",
    "- 단점\n",
    "    - 거리 기반 알고리즘으로 속성의 개수가 매우 많을 경우 군집화 정확도 하락 -> PCA 적용\n",
    "    - 반복 횟수가 많을 경우 수행시간이 느려짐\n",
    "    - 이상치(Outlier)데이터에 취약\n",
    "- 주요 파라미터\n",
    "    - n_clusters : 군집화할 개수, 군집 중심점의 개수\n",
    "    - init : 초기에 군집 중심점의 좌표를 설정할 방식. 보통은 임의로 중심을 설정하지 않고, 일반적으로 k-means++ 방식으로 최초 설정\n",
    "    - max_iter : 최대 반복 회수. 이 회수 이전에 모든 데이터의 중심점 이동이 없으면 종료\n",
    "- 주요 속성\n",
    "    - labels_ : 각 데이터 포인트가 속한 군집 중심점 레이블\n",
    "    - cluster_centers : 각 군집 중심점 좌표. 군집 중심점 좌표 시각화 가능"
   ]
  },
  {
   "cell_type": "markdown",
   "id": "89ab7046-b15b-4007-9346-86d322baf038",
   "metadata": {},
   "source": [
    "## K-Mean를 이용한 붓꽃 데이터 셋 군집화"
   ]
  },
  {
   "cell_type": "code",
   "execution_count": 2,
   "id": "57b651ad-8f73-471a-80cc-c8926d55a967",
   "metadata": {},
   "outputs": [
    {
     "name": "stdout",
     "output_type": "stream",
     "text": [
      "target name : ['setosa' 'versicolor' 'virginica']\n"
     ]
    },
    {
     "data": {
      "text/html": [
       "<div>\n",
       "<style scoped>\n",
       "    .dataframe tbody tr th:only-of-type {\n",
       "        vertical-align: middle;\n",
       "    }\n",
       "\n",
       "    .dataframe tbody tr th {\n",
       "        vertical-align: top;\n",
       "    }\n",
       "\n",
       "    .dataframe thead th {\n",
       "        text-align: right;\n",
       "    }\n",
       "</style>\n",
       "<table border=\"1\" class=\"dataframe\">\n",
       "  <thead>\n",
       "    <tr style=\"text-align: right;\">\n",
       "      <th></th>\n",
       "      <th>sepal_length</th>\n",
       "      <th>sepal_width</th>\n",
       "      <th>petal_length</th>\n",
       "      <th>petal_width</th>\n",
       "    </tr>\n",
       "  </thead>\n",
       "  <tbody>\n",
       "    <tr>\n",
       "      <th>0</th>\n",
       "      <td>5.1</td>\n",
       "      <td>3.5</td>\n",
       "      <td>1.4</td>\n",
       "      <td>0.2</td>\n",
       "    </tr>\n",
       "    <tr>\n",
       "      <th>1</th>\n",
       "      <td>4.9</td>\n",
       "      <td>3.0</td>\n",
       "      <td>1.4</td>\n",
       "      <td>0.2</td>\n",
       "    </tr>\n",
       "    <tr>\n",
       "      <th>2</th>\n",
       "      <td>4.7</td>\n",
       "      <td>3.2</td>\n",
       "      <td>1.3</td>\n",
       "      <td>0.2</td>\n",
       "    </tr>\n",
       "  </tbody>\n",
       "</table>\n",
       "</div>"
      ],
      "text/plain": [
       "   sepal_length  sepal_width  petal_length  petal_width\n",
       "0           5.1          3.5           1.4          0.2\n",
       "1           4.9          3.0           1.4          0.2\n",
       "2           4.7          3.2           1.3          0.2"
      ]
     },
     "execution_count": 2,
     "metadata": {},
     "output_type": "execute_result"
    }
   ],
   "source": [
    "from sklearn.preprocessing import scale\n",
    "from sklearn.datasets import load_iris\n",
    "from sklearn.cluster import KMeans\n",
    "import matplotlib.pyplot as plt\n",
    "import numpy as np\n",
    "import pandas as pd\n",
    "%matplotlib inline\n",
    "\n",
    "iris = load_iris()\n",
    "print('target name :', iris.target_names)\n",
    "\n",
    "irisDF = pd.DataFrame(data=iris.data, columns = ['sepal_length', 'sepal_width', 'petal_length', 'petal_width'])\n",
    "irisDF.head(3)"
   ]
  },
  {
   "cell_type": "markdown",
   "id": "d3d6894f-3989-469f-8b3c-bb65c8acecf8",
   "metadata": {},
   "source": [
    "### KMeans 객체를 생성하고 군집화 수행\n",
    "- labels_ 속성을 통해 각 데이터 포인트별로 할당된 군집 중심점(Centroid)확인\n",
    "- fit_predict(), fit_transform() 수행 결과 확인"
   ]
  },
  {
   "cell_type": "code",
   "execution_count": 7,
   "id": "5fe4b6d8-bbaa-4e1a-b0db-e39266b82181",
   "metadata": {},
   "outputs": [
    {
     "data": {
      "text/plain": [
       "KMeans(n_clusters=3, random_state=0)"
      ]
     },
     "execution_count": 7,
     "metadata": {},
     "output_type": "execute_result"
    }
   ],
   "source": [
    "kmeans = KMeans(n_clusters = 3, init = 'k-means++', max_iter = 300, random_state = 0)\n",
    "kmeans.fit(irisDF)"
   ]
  },
  {
   "cell_type": "code",
   "execution_count": 8,
   "id": "f1f607af-7ec6-4ea9-965d-d7ad36a630ee",
   "metadata": {},
   "outputs": [
    {
     "name": "stdout",
     "output_type": "stream",
     "text": [
      "[1 1 1 1 1 1 1 1 1 1 1 1 1 1 1 1 1 1 1 1 1 1 1 1 1 1 1 1 1 1 1 1 1 1 1 1 1\n",
      " 1 1 1 1 1 1 1 1 1 1 1 1 1 0 0 2 0 0 0 0 0 0 0 0 0 0 0 0 0 0 0 0 0 0 0 0 0\n",
      " 0 0 0 2 0 0 0 0 0 0 0 0 0 0 0 0 0 0 0 0 0 0 0 0 0 0 2 0 2 2 2 2 0 2 2 2 2\n",
      " 2 2 0 0 2 2 2 2 0 2 0 2 0 2 2 0 0 2 2 2 2 2 0 2 2 2 2 0 2 2 2 0 2 2 2 0 2\n",
      " 2 0]\n"
     ]
    }
   ],
   "source": [
    "print(kmeans.labels_)"
   ]
  },
  {
   "cell_type": "code",
   "execution_count": 9,
   "id": "4829ec88-555a-4dda-b943-86a65e9e8b62",
   "metadata": {},
   "outputs": [
    {
     "data": {
      "text/plain": [
       "array([1, 1, 1, 1, 1, 1, 1, 1, 1, 1, 1, 1, 1, 1, 1, 1, 1, 1, 1, 1, 1, 1,\n",
       "       1, 1, 1, 1, 1, 1, 1, 1, 1, 1, 1, 1, 1, 1, 1, 1, 1, 1, 1, 1, 1, 1,\n",
       "       1, 1, 1, 1, 1, 1, 0, 0, 2, 0, 0, 0, 0, 0, 0, 0, 0, 0, 0, 0, 0, 0,\n",
       "       0, 0, 0, 0, 0, 0, 0, 0, 0, 0, 0, 2, 0, 0, 0, 0, 0, 0, 0, 0, 0, 0,\n",
       "       0, 0, 0, 0, 0, 0, 0, 0, 0, 0, 0, 0, 2, 0, 2, 2, 2, 2, 0, 2, 2, 2,\n",
       "       2, 2, 2, 0, 0, 2, 2, 2, 2, 0, 2, 0, 2, 0, 2, 2, 0, 0, 2, 2, 2, 2,\n",
       "       2, 0, 2, 2, 2, 2, 0, 2, 2, 2, 0, 2, 2, 2, 0, 2, 2, 0], dtype=int32)"
      ]
     },
     "execution_count": 9,
     "metadata": {},
     "output_type": "execute_result"
    }
   ],
   "source": [
    "kmeans.fit_predict(irisDF)"
   ]
  },
  {
   "cell_type": "code",
   "execution_count": 10,
   "id": "bc7a024d-e522-49b4-b007-b7ed10da96fd",
   "metadata": {},
   "outputs": [
    {
     "data": {
      "text/plain": [
       "array([[3.41925061, 0.14135063, 5.0595416 ],\n",
       "       [3.39857426, 0.44763825, 5.11494335],\n",
       "       [3.56935666, 0.4171091 , 5.27935534],\n",
       "       [3.42240962, 0.52533799, 5.15358977],\n",
       "       [3.46726403, 0.18862662, 5.10433388],\n",
       "       [3.14673162, 0.67703767, 4.68148797],\n",
       "       [3.51650264, 0.4151867 , 5.21147652],\n",
       "       [3.33654987, 0.06618157, 5.00252706],\n",
       "       [3.57233779, 0.80745278, 5.32798107],\n",
       "       [3.3583767 , 0.37627118, 5.06790865],\n",
       "       [3.32449131, 0.4824728 , 4.89806763],\n",
       "       [3.31126872, 0.25373214, 4.9966845 ],\n",
       "       [3.46661272, 0.50077939, 5.19103612],\n",
       "       [3.90578362, 0.91322505, 5.65173594],\n",
       "       [3.646649  , 1.01409073, 5.10804455],\n",
       "       [3.49427881, 1.20481534, 4.88564095],\n",
       "       [3.495248  , 0.6542018 , 5.03090587],\n",
       "       [3.38444981, 0.1441527 , 5.02342022],\n",
       "       [3.11245944, 0.82436642, 4.61792995],\n",
       "       [3.37738931, 0.38933276, 4.97213426],\n",
       "       [3.07471224, 0.46344363, 4.6955761 ],\n",
       "       [3.31506588, 0.3286031 , 4.9236821 ],\n",
       "       [3.93167253, 0.64029681, 5.59713396],\n",
       "       [3.01233762, 0.38259639, 4.68193765],\n",
       "       [3.06241269, 0.48701129, 4.75095704],\n",
       "       [3.19414543, 0.45208406, 4.90772894],\n",
       "       [3.17967089, 0.20875823, 4.84545508],\n",
       "       [3.30941724, 0.21536016, 4.93969029],\n",
       "       [3.37648183, 0.21066561, 5.01833618],\n",
       "       [3.31272968, 0.40838707, 5.02954567],\n",
       "       [3.26550651, 0.41373905, 4.98608729],\n",
       "       [3.18083736, 0.42565244, 4.79550372],\n",
       "       [3.53142353, 0.71552778, 5.06520776],\n",
       "       [3.57102821, 0.91977171, 5.04438334],\n",
       "       [3.31992769, 0.34982853, 5.02985959],\n",
       "       [3.56904033, 0.35039977, 5.25071556],\n",
       "       [3.43783276, 0.52685861, 5.02368214],\n",
       "       [3.53114948, 0.25686572, 5.17865184],\n",
       "       [3.66205264, 0.76077592, 5.40750095],\n",
       "       [3.31092773, 0.11480418, 4.9664149 ],\n",
       "       [3.49764675, 0.18541845, 5.14520862],\n",
       "       [3.60850034, 1.24803045, 5.38423754],\n",
       "       [3.68120561, 0.6690142 , 5.40847417],\n",
       "       [3.14278239, 0.38675574, 4.78803478],\n",
       "       [3.00585191, 0.60231221, 4.59828494],\n",
       "       [3.39468045, 0.48205809, 5.11844067],\n",
       "       [3.32788568, 0.41034132, 4.92421655],\n",
       "       [3.51879523, 0.47199576, 5.23766854],\n",
       "       [3.34104251, 0.40494444, 4.92859681],\n",
       "       [3.40601705, 0.14959947, 5.08216833],\n",
       "       [1.22697525, 3.98049997, 1.25489071],\n",
       "       [0.684141  , 3.57731464, 1.44477759],\n",
       "       [1.17527644, 4.13366423, 1.01903626],\n",
       "       [0.73153652, 3.01144152, 2.45978458],\n",
       "       [0.63853451, 3.74779669, 1.3520017 ],\n",
       "       [0.26937898, 3.34908644, 1.88009327],\n",
       "       [0.76452634, 3.74283048, 1.28902785],\n",
       "       [1.58388575, 2.23937045, 3.37155487],\n",
       "       [0.75582717, 3.71181627, 1.41123804],\n",
       "       [0.85984838, 2.8005678 , 2.58955659],\n",
       "       [1.53611907, 2.60022691, 3.27864111],\n",
       "       [0.32426175, 3.17042268, 1.90055758],\n",
       "       [0.80841374, 3.08317693, 2.38073698],\n",
       "       [0.39674141, 3.64581678, 1.45909603],\n",
       "       [0.87269542, 2.51268382, 2.60303733],\n",
       "       [0.87306498, 3.59732957, 1.50822767],\n",
       "       [0.41229163, 3.36719171, 1.85387593],\n",
       "       [0.53579956, 2.94753796, 2.25517257],\n",
       "       [0.6367639 , 3.70615434, 1.74778451],\n",
       "       [0.71254917, 2.80841236, 2.49557781],\n",
       "       [0.7093731 , 3.79583719, 1.37094403],\n",
       "       [0.46349013, 3.02383531, 2.06563694],\n",
       "       [0.69373966, 3.99098735, 1.29106776],\n",
       "       [0.43661144, 3.60360653, 1.57547425],\n",
       "       [0.54593856, 3.37448959, 1.70495043],\n",
       "       [0.74313017, 3.56196294, 1.52298639],\n",
       "       [0.98798453, 4.01083283, 1.18965415],\n",
       "       [1.06739835, 4.20528001, 0.84636259],\n",
       "       [0.21993519, 3.47401497, 1.61913335],\n",
       "       [1.0243726 , 2.42676328, 2.77868071],\n",
       "       [0.86396528, 2.73795179, 2.6440625 ],\n",
       "       [0.97566381, 2.62259032, 2.75566654],\n",
       "       [0.55763082, 2.83096803, 2.32254696],\n",
       "       [0.73395781, 4.07263797, 1.22324554],\n",
       "       [0.57500396, 3.33772078, 1.9942056 ],\n",
       "       [0.68790275, 3.47153856, 1.61049622],\n",
       "       [0.92700552, 3.87741924, 1.19803047],\n",
       "       [0.61459444, 3.56224367, 1.81572464],\n",
       "       [0.50830256, 2.93359506, 2.20430516],\n",
       "       [0.6291191 , 2.94237659, 2.40438484],\n",
       "       [0.48790256, 3.23598208, 2.14635877],\n",
       "       [0.38266958, 3.5438369 , 1.52402278],\n",
       "       [0.49185351, 2.94407541, 2.26286106],\n",
       "       [1.5485635 , 2.28455247, 3.33648305],\n",
       "       [0.3856087 , 3.08064604, 2.16211718],\n",
       "       [0.44284695, 3.01190637, 2.11299567],\n",
       "       [0.3449879 , 3.0607156 , 2.07973003],\n",
       "       [0.37241653, 3.29690461, 1.76829182],\n",
       "       [1.66064034, 1.99117553, 3.44291999],\n",
       "       [0.38393196, 2.99098312, 2.16527941],\n",
       "       [2.0445799 , 5.23113563, 0.77731871],\n",
       "       [0.85382472, 4.13898297, 1.29757391],\n",
       "       [2.05245342, 5.26319105, 0.30610139],\n",
       "       [1.33089245, 4.63585807, 0.65293923],\n",
       "       [1.72813078, 5.00515534, 0.38458885],\n",
       "       [2.87401886, 6.06204421, 1.14225684],\n",
       "       [1.07101875, 3.49513662, 2.4108337 ],\n",
       "       [2.39730707, 5.6002125 , 0.78573677],\n",
       "       [1.67668563, 4.9963967 , 0.65454939],\n",
       "       [2.54158648, 5.60667281, 0.8435596 ],\n",
       "       [1.17541367, 4.31225927, 0.74552218],\n",
       "       [1.13563278, 4.46533089, 0.75289837],\n",
       "       [1.59322675, 4.81086063, 0.25958095],\n",
       "       [0.88917352, 4.11543193, 1.48572618],\n",
       "       [1.20227628, 4.34736472, 1.30303821],\n",
       "       [1.42273608, 4.57650303, 0.68288333],\n",
       "       [1.33403966, 4.59734489, 0.50991553],\n",
       "       [3.20105585, 6.21697515, 1.47791217],\n",
       "       [3.20759942, 6.46018421, 1.52971038],\n",
       "       [0.82617494, 4.07258886, 1.53708992],\n",
       "       [1.91251832, 5.08121836, 0.26952816],\n",
       "       [0.81891975, 3.95519658, 1.5334904 ],\n",
       "       [2.9794431 , 6.17779734, 1.31149299],\n",
       "       [0.74269596, 4.05452587, 1.10668455],\n",
       "       [1.75847731, 4.92787784, 0.27627819],\n",
       "       [2.14580999, 5.27958142, 0.52766931],\n",
       "       [0.62526165, 3.92137476, 1.20765678],\n",
       "       [0.70228926, 3.95155412, 1.16212743],\n",
       "       [1.4663925 , 4.78518338, 0.54629196],\n",
       "       [1.93773659, 5.06442297, 0.59428255],\n",
       "       [2.31885342, 5.51111422, 0.7312665 ],\n",
       "       [3.07340053, 5.99783127, 1.43802246],\n",
       "       [1.51444141, 4.8248088 , 0.5605572 ],\n",
       "       [0.81536685, 4.10808715, 1.05631592],\n",
       "       [1.23209127, 4.50967626, 1.12133058],\n",
       "       [2.6381171 , 5.75940796, 0.95311851],\n",
       "       [1.72401927, 4.84127876, 0.73306362],\n",
       "       [1.31541133, 4.557541  , 0.57903109],\n",
       "       [0.61011676, 3.83775716, 1.29960041],\n",
       "       [1.60532899, 4.7581488 , 0.34794609],\n",
       "       [1.77481954, 4.97393004, 0.3893492 ],\n",
       "       [1.53937059, 4.59878027, 0.68403844],\n",
       "       [0.85382472, 4.13898297, 1.29757391],\n",
       "       [2.00764279, 5.21394093, 0.30952112],\n",
       "       [1.94554509, 5.09187392, 0.50939919],\n",
       "       [1.44957743, 4.60916261, 0.61173881],\n",
       "       [0.89747884, 4.21767471, 1.10072376],\n",
       "       [1.17993324, 4.41184542, 0.65334214],\n",
       "       [1.50889317, 4.59925864, 0.83572418],\n",
       "       [0.83452741, 4.0782815 , 1.1805499 ]])"
      ]
     },
     "execution_count": 10,
     "metadata": {},
     "output_type": "execute_result"
    }
   ],
   "source": [
    "kmeans.fit_transform(irisDF)"
   ]
  },
  {
   "cell_type": "markdown",
   "id": "f7d71434-7223-4249-a200-1b33f7b4c3fe",
   "metadata": {},
   "source": [
    "### 군집화 결과를 irisDF에 'cluster' column으로 추가하고 target값과 비교"
   ]
  },
  {
   "cell_type": "code",
   "execution_count": 11,
   "id": "903ddd6b-6afc-4e23-b0c8-0469d0428c55",
   "metadata": {},
   "outputs": [
    {
     "data": {
      "text/plain": [
       "(array([0, 0, 0, 0, 0, 0, 0, 0, 0, 0, 0, 0, 0, 0, 0, 0, 0, 0, 0, 0, 0, 0,\n",
       "        0, 0, 0, 0, 0, 0, 0, 0, 0, 0, 0, 0, 0, 0, 0, 0, 0, 0, 0, 0, 0, 0,\n",
       "        0, 0, 0, 0, 0, 0, 1, 1, 1, 1, 1, 1, 1, 1, 1, 1, 1, 1, 1, 1, 1, 1,\n",
       "        1, 1, 1, 1, 1, 1, 1, 1, 1, 1, 1, 1, 1, 1, 1, 1, 1, 1, 1, 1, 1, 1,\n",
       "        1, 1, 1, 1, 1, 1, 1, 1, 1, 1, 1, 1, 2, 2, 2, 2, 2, 2, 2, 2, 2, 2,\n",
       "        2, 2, 2, 2, 2, 2, 2, 2, 2, 2, 2, 2, 2, 2, 2, 2, 2, 2, 2, 2, 2, 2,\n",
       "        2, 2, 2, 2, 2, 2, 2, 2, 2, 2, 2, 2, 2, 2, 2, 2, 2, 2]),\n",
       " array(['setosa', 'versicolor', 'virginica'], dtype='<U10'))"
      ]
     },
     "execution_count": 11,
     "metadata": {},
     "output_type": "execute_result"
    }
   ],
   "source": [
    "iris.target, iris.target_names"
   ]
  },
  {
   "cell_type": "code",
   "execution_count": 12,
   "id": "6990550a-8e47-4813-8894-f974ea442a92",
   "metadata": {},
   "outputs": [
    {
     "data": {
      "text/html": [
       "<div>\n",
       "<style scoped>\n",
       "    .dataframe tbody tr th:only-of-type {\n",
       "        vertical-align: middle;\n",
       "    }\n",
       "\n",
       "    .dataframe tbody tr th {\n",
       "        vertical-align: top;\n",
       "    }\n",
       "\n",
       "    .dataframe thead th {\n",
       "        text-align: right;\n",
       "    }\n",
       "</style>\n",
       "<table border=\"1\" class=\"dataframe\">\n",
       "  <thead>\n",
       "    <tr style=\"text-align: right;\">\n",
       "      <th></th>\n",
       "      <th>sepal_length</th>\n",
       "      <th>sepal_width</th>\n",
       "      <th>petal_length</th>\n",
       "      <th>petal_width</th>\n",
       "      <th>target</th>\n",
       "      <th>cluster</th>\n",
       "    </tr>\n",
       "  </thead>\n",
       "  <tbody>\n",
       "    <tr>\n",
       "      <th>0</th>\n",
       "      <td>5.1</td>\n",
       "      <td>3.5</td>\n",
       "      <td>1.4</td>\n",
       "      <td>0.2</td>\n",
       "      <td>0</td>\n",
       "      <td>1</td>\n",
       "    </tr>\n",
       "    <tr>\n",
       "      <th>1</th>\n",
       "      <td>4.9</td>\n",
       "      <td>3.0</td>\n",
       "      <td>1.4</td>\n",
       "      <td>0.2</td>\n",
       "      <td>0</td>\n",
       "      <td>1</td>\n",
       "    </tr>\n",
       "    <tr>\n",
       "      <th>2</th>\n",
       "      <td>4.7</td>\n",
       "      <td>3.2</td>\n",
       "      <td>1.3</td>\n",
       "      <td>0.2</td>\n",
       "      <td>0</td>\n",
       "      <td>1</td>\n",
       "    </tr>\n",
       "    <tr>\n",
       "      <th>3</th>\n",
       "      <td>4.6</td>\n",
       "      <td>3.1</td>\n",
       "      <td>1.5</td>\n",
       "      <td>0.2</td>\n",
       "      <td>0</td>\n",
       "      <td>1</td>\n",
       "    </tr>\n",
       "    <tr>\n",
       "      <th>4</th>\n",
       "      <td>5.0</td>\n",
       "      <td>3.6</td>\n",
       "      <td>1.4</td>\n",
       "      <td>0.2</td>\n",
       "      <td>0</td>\n",
       "      <td>1</td>\n",
       "    </tr>\n",
       "    <tr>\n",
       "      <th>5</th>\n",
       "      <td>5.4</td>\n",
       "      <td>3.9</td>\n",
       "      <td>1.7</td>\n",
       "      <td>0.4</td>\n",
       "      <td>0</td>\n",
       "      <td>1</td>\n",
       "    </tr>\n",
       "    <tr>\n",
       "      <th>6</th>\n",
       "      <td>4.6</td>\n",
       "      <td>3.4</td>\n",
       "      <td>1.4</td>\n",
       "      <td>0.3</td>\n",
       "      <td>0</td>\n",
       "      <td>1</td>\n",
       "    </tr>\n",
       "    <tr>\n",
       "      <th>7</th>\n",
       "      <td>5.0</td>\n",
       "      <td>3.4</td>\n",
       "      <td>1.5</td>\n",
       "      <td>0.2</td>\n",
       "      <td>0</td>\n",
       "      <td>1</td>\n",
       "    </tr>\n",
       "    <tr>\n",
       "      <th>8</th>\n",
       "      <td>4.4</td>\n",
       "      <td>2.9</td>\n",
       "      <td>1.4</td>\n",
       "      <td>0.2</td>\n",
       "      <td>0</td>\n",
       "      <td>1</td>\n",
       "    </tr>\n",
       "    <tr>\n",
       "      <th>9</th>\n",
       "      <td>4.9</td>\n",
       "      <td>3.1</td>\n",
       "      <td>1.5</td>\n",
       "      <td>0.1</td>\n",
       "      <td>0</td>\n",
       "      <td>1</td>\n",
       "    </tr>\n",
       "  </tbody>\n",
       "</table>\n",
       "</div>"
      ],
      "text/plain": [
       "   sepal_length  sepal_width  petal_length  petal_width  target  cluster\n",
       "0           5.1          3.5           1.4          0.2       0        1\n",
       "1           4.9          3.0           1.4          0.2       0        1\n",
       "2           4.7          3.2           1.3          0.2       0        1\n",
       "3           4.6          3.1           1.5          0.2       0        1\n",
       "4           5.0          3.6           1.4          0.2       0        1\n",
       "5           5.4          3.9           1.7          0.4       0        1\n",
       "6           4.6          3.4           1.4          0.3       0        1\n",
       "7           5.0          3.4           1.5          0.2       0        1\n",
       "8           4.4          2.9           1.4          0.2       0        1\n",
       "9           4.9          3.1           1.5          0.1       0        1"
      ]
     },
     "execution_count": 12,
     "metadata": {},
     "output_type": "execute_result"
    }
   ],
   "source": [
    "irisDF['target'] = iris.target\n",
    "irisDF['cluster'] = kmeans.labels_\n",
    "irisDF.head(10)"
   ]
  },
  {
   "cell_type": "code",
   "execution_count": 13,
   "id": "b91652e7-fc88-4e65-a7c0-72e4b5fc53ad",
   "metadata": {},
   "outputs": [
    {
     "name": "stdout",
     "output_type": "stream",
     "text": [
      "target  cluster\n",
      "0       1          50\n",
      "1       0          48\n",
      "        2           2\n",
      "2       0          14\n",
      "        2          36\n",
      "Name: sepal_length, dtype: int64\n"
     ]
    }
   ],
   "source": [
    "iris_result = irisDF.groupby(['target', 'cluster'])['sepal_length'].count()\n",
    "print(iris_result)"
   ]
  },
  {
   "cell_type": "markdown",
   "id": "4a813afc-8344-4222-a0e7-06e259799fe6",
   "metadata": {},
   "source": [
    "- 2차원 평면에 데이터 포인트별로 군집화된 결과를 나타내기 위해 2차원 PCA 값으로 각 데이터 차원 축소"
   ]
  },
  {
   "cell_type": "code",
   "execution_count": 14,
   "id": "60a26e21-e9ac-4b10-a2d2-ccf2a527b7ed",
   "metadata": {},
   "outputs": [
    {
     "data": {
      "text/html": [
       "<div>\n",
       "<style scoped>\n",
       "    .dataframe tbody tr th:only-of-type {\n",
       "        vertical-align: middle;\n",
       "    }\n",
       "\n",
       "    .dataframe tbody tr th {\n",
       "        vertical-align: top;\n",
       "    }\n",
       "\n",
       "    .dataframe thead th {\n",
       "        text-align: right;\n",
       "    }\n",
       "</style>\n",
       "<table border=\"1\" class=\"dataframe\">\n",
       "  <thead>\n",
       "    <tr style=\"text-align: right;\">\n",
       "      <th></th>\n",
       "      <th>sepal_length</th>\n",
       "      <th>sepal_width</th>\n",
       "      <th>petal_length</th>\n",
       "      <th>petal_width</th>\n",
       "      <th>target</th>\n",
       "      <th>cluster</th>\n",
       "      <th>pca_x</th>\n",
       "      <th>pca_y</th>\n",
       "    </tr>\n",
       "  </thead>\n",
       "  <tbody>\n",
       "    <tr>\n",
       "      <th>0</th>\n",
       "      <td>5.1</td>\n",
       "      <td>3.5</td>\n",
       "      <td>1.4</td>\n",
       "      <td>0.2</td>\n",
       "      <td>0</td>\n",
       "      <td>1</td>\n",
       "      <td>-2.684126</td>\n",
       "      <td>0.319397</td>\n",
       "    </tr>\n",
       "    <tr>\n",
       "      <th>1</th>\n",
       "      <td>4.9</td>\n",
       "      <td>3.0</td>\n",
       "      <td>1.4</td>\n",
       "      <td>0.2</td>\n",
       "      <td>0</td>\n",
       "      <td>1</td>\n",
       "      <td>-2.714142</td>\n",
       "      <td>-0.177001</td>\n",
       "    </tr>\n",
       "    <tr>\n",
       "      <th>2</th>\n",
       "      <td>4.7</td>\n",
       "      <td>3.2</td>\n",
       "      <td>1.3</td>\n",
       "      <td>0.2</td>\n",
       "      <td>0</td>\n",
       "      <td>1</td>\n",
       "      <td>-2.888991</td>\n",
       "      <td>-0.144949</td>\n",
       "    </tr>\n",
       "  </tbody>\n",
       "</table>\n",
       "</div>"
      ],
      "text/plain": [
       "   sepal_length  sepal_width  petal_length  petal_width  target  cluster  \\\n",
       "0           5.1          3.5           1.4          0.2       0        1   \n",
       "1           4.9          3.0           1.4          0.2       0        1   \n",
       "2           4.7          3.2           1.3          0.2       0        1   \n",
       "\n",
       "      pca_x     pca_y  \n",
       "0 -2.684126  0.319397  \n",
       "1 -2.714142 -0.177001  \n",
       "2 -2.888991 -0.144949  "
      ]
     },
     "execution_count": 14,
     "metadata": {},
     "output_type": "execute_result"
    }
   ],
   "source": [
    "from sklearn.decomposition import PCA\n",
    "\n",
    "pca = PCA(n_components = 2)\n",
    "pca_transformed = pca.fit_transform(iris.data)\n",
    "irisDF['pca_x'] = pca_transformed[:, 0]\n",
    "irisDF['pca_y'] = pca_transformed[:, 1]\n",
    "irisDF.head(3)"
   ]
  },
  {
   "cell_type": "code",
   "execution_count": 16,
   "id": "17f7cad8-db8c-4ab2-b0ee-e33d37b98312",
   "metadata": {},
   "outputs": [
    {
     "data": {
      "image/png": "[encoded data removed]",
      "text/plain": [
       "<Figure size 432x288 with 1 Axes>"
      ]
     },
     "metadata": {
      "needs_background": "light"
     },
     "output_type": "display_data"
    }
   ],
   "source": [
    "# cluster값마다 별도의 index 추출\n",
    "marker0_ind = irisDF[irisDF['cluster'] == 0].index\n",
    "marker1_ind = irisDF[irisDF['cluster'] == 1].index\n",
    "marker2_ind = irisDF[irisDF['cluster'] == 2].index\n",
    "\n",
    "# cluster값에 해당하는 index로 각 cluster 레벨의 pca_x, pca_y 값 추출. \n",
    "plt.scatter(x = irisDF.loc[marker0_ind, 'pca_x'], y = irisDF.loc[marker0_ind, 'pca_y'], marker = 'o')\n",
    "plt.scatter(x = irisDF.loc[marker1_ind, 'pca_x'], y = irisDF.loc[marker1_ind, 'pca_y'], marker = 's')\n",
    "plt.scatter(x = irisDF.loc[marker2_ind, 'pca_x'], y = irisDF.loc[marker2_ind, 'pca_y'], marker = '^')\n",
    "\n",
    "plt.xlabel('PCA 1')\n",
    "plt.ylabel('PCA 2')\n",
    "plt.title('3 Clusters Visualization by 2 PCA Components')\n",
    "plt.show()"
   ]
  },
  {
   "cell_type": "code",
   "execution_count": null,
   "id": "f0f430f0-7b4b-436d-9d2e-25f9b6fc33ac",
   "metadata": {},
   "outputs": [],
   "source": []
  }
 ],
 "metadata": {
  "kernelspec": {
   "display_name": "Python 3 (ipykernel)",
   "language": "python",
   "name": "python3"
  },
  "language_info": {
   "codemirror_mode": {
    "name": "ipython",
    "version": 3
   },
   "file_extension": ".py",
   "mimetype": "text/x-python",
   "name": "python",
   "nbconvert_exporter": "python",
   "pygments_lexer": "ipython3",
   "version": "3.9.12"
  }
 },
 "nbformat": 4,
 "nbformat_minor": 5
}
