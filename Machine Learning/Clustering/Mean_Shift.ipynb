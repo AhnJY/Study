{
 "cells": [
  {
   "cell_type": "markdown",
   "id": "f0d0f4e7-7bce-4b01-b69a-3757be4c81a0",
   "metadata": {},
   "source": [
    "# Mean Shift \n",
    "- KDE(Kernel Density Estimation)를 이용하여 데이터 포인트들이 데이터 분포가 높은 곳으로 이동하면서 군집화를 수행\n",
    "- KDE(Kernel Density Estimation) : kernel 함수를 통해 어떤 변수의 확률밀도 함수를 추정하는 방식\n",
    "- 별도의 군집화 개수를 지정하지 않음\n",
    "- 분포도에 기반하여 자동으로 군집화 개수가 정해짐\n",
    "- 특정 데이터가 반경 내의 데이터 분포 확률 밀도가 가장 높은곳으로 이동 —> 주변 데이터들과의 거리값을 Kernel 함수 값으로 입력 —> 반환값을 현재 위치에서 업데이트 하면서 이동\n",
    "\n",
    "# Sklearn MeanShift\n",
    "- 사이킷런은 Mean Shift 군집화를 위해 MeanShift 클래스를 제공\n",
    "- bandwidth : MeanShift 클래스의 가장 중요한 초기화 파라미터. 밀도 중심으로 이동할 때 사용되는 커널 함수의 bandwidth. 이를 어떻게 설정하느냐에 따라 군집화 성능이 달라짐\n",
    "- 최적의 bandwidth 계산을 위해 sklearn은 estimate_bandwidth() 함수를 제공\n",
    "- Data mining보다는 영상(특히 object tracking쪽에 많이 사용)"
   ]
  },
  {
   "cell_type": "code",
   "execution_count": 3,
   "id": "5ec044f7-73b2-433c-8173-2973923c5578",
   "metadata": {},
   "outputs": [
    {
     "name": "stdout",
     "output_type": "stream",
     "text": [
      "cluster labels 유형 :  [0 1 2]\n"
     ]
    }
   ],
   "source": [
    "import numpy as np\n",
    "from sklearn.datasets import make_blobs\n",
    "from sklearn.cluster import MeanShift\n",
    "\n",
    "# 2개의 feature와 3개의 군집 중심점을 가지는 임의의 데이터 200개를 생성\n",
    "X, y = make_blobs(n_samples = 200, n_features = 2, centers = 3, cluster_std = 0.6, random_state = 0)\n",
    "\n",
    "# MeanShift를 이용하여 군집화 수행\n",
    "meanshift = MeanShift(bandwidth = 0.9)\n",
    "cluster_labels = meanshift.fit_predict(X)\n",
    "print('cluster labels 유형 : ', np.unique(cluster_labels))"
   ]
  },
  {
   "cell_type": "markdown",
   "id": "02886d08-3acb-453a-ae3f-4a7d42dee18b",
   "metadata": {},
   "source": [
    "- 커널함수의 bandwidth크기를 1로 증가 후 군집화 재수행"
   ]
  },
  {
   "cell_type": "code",
   "execution_count": 4,
   "id": "eb30fe1e-4278-4ab1-ba03-2f47cc3d0a5b",
   "metadata": {},
   "outputs": [],
   "source": [
    "meanshift = MeanShift(bandwidth = 1)\n",
    "cluster_labels = meanshift.fit_predict(X)"
   ]
  },
  {
   "cell_type": "markdown",
   "id": "95d14505-d891-4677-95ee-b2a4a8c02453",
   "metadata": {},
   "source": [
    "- 최적의 bandwidth 값을 estimate_bandwidth()로 계산 한 뒤에 다시 군집화 수행"
   ]
  },
  {
   "cell_type": "code",
   "execution_count": 5,
   "id": "a0d02aaf-e2b8-403b-923e-5e4bd53a4c19",
   "metadata": {},
   "outputs": [
    {
     "name": "stdout",
     "output_type": "stream",
     "text": [
      "bandwidth 값 :  1.323\n"
     ]
    }
   ],
   "source": [
    "from sklearn.cluster import estimate_bandwidth\n",
    "\n",
    "bandwidth = estimate_bandwidth(X, quantile = 0.25)\n",
    "print('bandwidth 값 : ', round(bandwidth, 3))"
   ]
  },
  {
   "cell_type": "code",
   "execution_count": 11,
   "id": "6c972363-8395-4338-b715-b313ff4dd1cb",
   "metadata": {},
   "outputs": [
    {
     "name": "stdout",
     "output_type": "stream",
     "text": [
      "cluster labels 유형: [0 1 2]\n"
     ]
    }
   ],
   "source": [
    "import pandas as pd\n",
    "\n",
    "clusterDF = pd.DataFrame(data=X, columns=['ftr1', 'ftr2'])\n",
    "clusterDF['target'] = y\n",
    "\n",
    "# estimate_bandwidth()로 최적의 bandwidth 계산\n",
    "best_bandwidth = estimate_bandwidth(X, quantile=0.25)\n",
    "\n",
    "meanshift= MeanShift(bandwidth = best_bandwidth)\n",
    "cluster_labels = meanshift.fit_predict(X)\n",
    "print('cluster labels 유형:',np.unique(cluster_labels))    "
   ]
  },
  {
   "cell_type": "code",
   "execution_count": 14,
   "id": "2849af3a-dfac-4b24-a36f-5c172528b236",
   "metadata": {},
   "outputs": [
    {
     "data": {
      "image/png": "[encoded data removed]",
      "text/plain": [
       "<Figure size 640x480 with 1 Axes>"
      ]
     },
     "metadata": {},
     "output_type": "display_data"
    }
   ],
   "source": [
    "import matplotlib.pyplot as plt\n",
    "%matplotlib inline\n",
    "\n",
    "clusterDF['meanshift_label'] = cluster_labels\n",
    "centers = meanshift.cluster_centers_\n",
    "unique_labels = np.unique(cluster_labels)\n",
    "markers = ['o', 's', '^', 'x', '*']\n",
    "\n",
    "for label in unique_labels :\n",
    "    label_cluster = clusterDF[clusterDF['meanshift_label'] == label]\n",
    "    center_x_y = centers[label]\n",
    "    \n",
    "    # 군집별로 다른 marker로 scatter plot 적용\n",
    "    plt.scatter(x = label_cluster['ftr1'], y=label_cluster['ftr2'], edgecolor = 'k', marker = markers[label])\n",
    "    \n",
    "    # 군집별 중심 시각화\n",
    "    plt.scatter(x = center_x_y[0], y = center_x_y[1], s = 200, color = 'white',\n",
    "                edgecolor = 'k', alpha = 0.9, marker = markers[label])\n",
    "    plt.scatter(x = center_x_y[0], y = center_x_y[1], s = 70, color = 'k',\n",
    "                edgecolor = 'k', marker = '$%d$' % label)"
   ]
  },
  {
   "cell_type": "code",
   "execution_count": 16,
   "id": "03dbe288-74bb-4b2c-a00b-e65c4f9190f1",
   "metadata": {},
   "outputs": [
    {
     "name": "stdout",
     "output_type": "stream",
     "text": [
      "target  meanshift_label\n",
      "0       2                  67\n",
      "1       0                  67\n",
      "2       1                  66\n",
      "Name: meanshift_label, dtype: int64\n"
     ]
    }
   ],
   "source": [
    "print(clusterDF.groupby('target')['meanshift_label'].value_counts())"
   ]
  },
  {
   "cell_type": "code",
   "execution_count": null,
   "id": "9d30a816-c127-4398-9f7b-bcc6cff9468c",
   "metadata": {},
   "outputs": [],
   "source": []
  }
 ],
 "metadata": {
  "kernelspec": {
   "display_name": "Python 3 (ipykernel)",
   "language": "python",
   "name": "python3"
  },
  "language_info": {
   "codemirror_mode": {
    "name": "ipython",
    "version": 3
   },
   "file_extension": ".py",
   "mimetype": "text/x-python",
   "name": "python",
   "nbconvert_exporter": "python",
   "pygments_lexer": "ipython3",
   "version": "3.9.13"
  }
 },
 "nbformat": 4,
 "nbformat_minor": 5
}
