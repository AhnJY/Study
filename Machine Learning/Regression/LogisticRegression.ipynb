{
 "cells": [
  {
   "cell_type": "markdown",
   "id": "a484e463-2d4e-40e0-a60d-74655204d650",
   "metadata": {},
   "source": [
    "## Sklearn LogisticRegression\n",
    "\n",
    "### 주요 파라미터\n",
    "- penalty : 규제 유형 설정. l1 : L1, l2 : L2\n",
    "- C : 규제 강도 조절. alpha값의 역수. C = 1/alpha\n",
    "- solver : 최적화 방식\n",
    "\n",
    "#### solver\n",
    "- lbfgs : sklearn version 0.22이후 설정된 default. 메모리 공간을 절약할 수 있고, cpu 코어 수가 많다면 최적화를 병렬로 수행 가능\n",
    "- liblinear : sklearn verson 0.21이전 설정된 default. 다차원이고 작은 데이터 세트에서 효과적. 그러나 국소 최적화(Local Minimun)이슈가 있고, 병렬로 최적화 불가능\n",
    "- newton-cg : 정교한 최적화 가능. 그러나 대용량의 데이터에서 속도가 매우 느림\n",
    "- sag : Stochastic Average Gradient로서 경사 하강법 기반의 최적화 적용. 대용량의 데이터에서 빠르게 최적화\n",
    "- saga : sag와 유사한 최적화 방식. L1 정규화 가능"
   ]
  },
  {
   "cell_type": "code",
   "execution_count": 2,
   "id": "c776525c-9350-4b2e-9f01-1111135a7a99",
   "metadata": {},
   "outputs": [],
   "source": [
    "import pandas as pd\n",
    "import matplotlib.pyplot as plt\n",
    "%matplotlib inline\n",
    "\n",
    "from sklearn.datasets import load_breast_cancer\n",
    "from sklearn.linear_model import LogisticRegression\n",
    "\n",
    "cancer = load_breast_cancer()"
   ]
  },
  {
   "cell_type": "code",
   "execution_count": 5,
   "id": "c4842eeb-c00e-4451-82ff-a0a2ecfa4331",
   "metadata": {},
   "outputs": [],
   "source": [
    "from sklearn.preprocessing import StandardScaler\n",
    "from sklearn.model_selection import train_test_split\n",
    "\n",
    "# StandardScaler()로 평균 0, 분산 1로 데이터 분포도 변환\n",
    "scaler = StandardScaler()\n",
    "data_scaled = scaler.fit_transform(cancer.data)\n",
    "\n",
    "X_train, X_test, y_train, y_test = train_test_split(data_scaled, cancer.target, test_size = 0.3, random_state = 0)"
   ]
  },
  {
   "cell_type": "code",
   "execution_count": 6,
   "id": "aaf0e91b-7294-46c6-8568-34d86edd12db",
   "metadata": {},
   "outputs": [
    {
     "name": "stdout",
     "output_type": "stream",
     "text": [
      "accuracy : 0.977, roc_auc : 0.972\n"
     ]
    }
   ],
   "source": [
    "from sklearn.metrics import accuracy_score, roc_auc_score\n",
    "\n",
    "# solver default = lbfgs\n",
    "lr_clf = LogisticRegression()\n",
    "lr_clf.fit(X_train, y_train)\n",
    "lr_preds = lr_clf.predict(X_test)\n",
    "\n",
    "print('accuracy : {0:.3f}, roc_auc : {1:.3f}'.format(accuracy_score(y_test, lr_preds), roc_auc_score(y_test, lr_preds)))"
   ]
  },
  {
   "cell_type": "code",
   "execution_count": 9,
   "id": "6a7b41ce-3a1e-4fad-b791-9de4357ea1bb",
   "metadata": {},
   "outputs": [
    {
     "name": "stdout",
     "output_type": "stream",
     "text": [
      "solver : lbfgs, accuracy : 0.977, roc_auc : 0.972\n",
      "0.01556\n",
      "solver : liblinear, accuracy : 0.982, roc_auc : 0.979\n",
      "0.00478\n",
      "solver : newton-cg, accuracy : 0.977, roc_auc : 0.972\n",
      "0.01119\n",
      "solver : sag, accuracy : 0.982, roc_auc : 0.979\n",
      "0.03900\n",
      "solver : saga, accuracy : 0.982, roc_auc : 0.979\n",
      "0.04502\n"
     ]
    }
   ],
   "source": [
    "import time\n",
    "\n",
    "solvers = ['lbfgs', 'liblinear', 'newton-cg', 'sag', 'saga']\n",
    "\n",
    "for solver in solvers:\n",
    "    start = time.time()\n",
    "    lr_clf = LogisticRegression(solver = solver, max_iter = 600)\n",
    "    lr_clf.fit(X_train, y_train)\n",
    "    lr_preds = lr_clf.predict(X_test)\n",
    "    \n",
    "    print('solver : {0}, accuracy : {1:.3f}, roc_auc : {2:.3f}'.format(solver, \n",
    "                                                                       accuracy_score(y_test, lr_preds), \n",
    "                                                                       roc_auc_score(y_test, lr_preds)))\n",
    "    end = time.time()\n",
    "    print('{0:.5f}'.format(end-start))"
   ]
  },
  {
   "cell_type": "code",
   "execution_count": 14,
   "id": "5c17f906-f1b3-4469-954f-969315744dbb",
   "metadata": {},
   "outputs": [
    {
     "name": "stdout",
     "output_type": "stream",
     "text": [
      "최적 하이퍼 파라미터 : {'C': 0.1, 'penalty': 'l2', 'solver': 'liblinear'}, 최적 평균 정확도 : 0.979\n"
     ]
    },
    {
     "name": "stderr",
     "output_type": "stream",
     "text": [
      "/opt/anaconda3/lib/python3.9/site-packages/sklearn/model_selection/_validation.py:372: FitFailedWarning: \n",
      "15 fits failed out of a total of 60.\n",
      "The score on these train-test partitions for these parameters will be set to nan.\n",
      "If these failures are not expected, you can try to debug them by setting error_score='raise'.\n",
      "\n",
      "Below are more details about the failures:\n",
      "--------------------------------------------------------------------------------\n",
      "15 fits failed with the following error:\n",
      "Traceback (most recent call last):\n",
      "  File \"/opt/anaconda3/lib/python3.9/site-packages/sklearn/model_selection/_validation.py\", line 680, in _fit_and_score\n",
      "    estimator.fit(X_train, y_train, **fit_params)\n",
      "  File \"/opt/anaconda3/lib/python3.9/site-packages/sklearn/linear_model/_logistic.py\", line 1461, in fit\n",
      "    solver = _check_solver(self.solver, self.penalty, self.dual)\n",
      "  File \"/opt/anaconda3/lib/python3.9/site-packages/sklearn/linear_model/_logistic.py\", line 447, in _check_solver\n",
      "    raise ValueError(\n",
      "ValueError: Solver lbfgs supports only 'l2' or 'none' penalties, got l1 penalty.\n",
      "\n",
      "  warnings.warn(some_fits_failed_message, FitFailedWarning)\n",
      "/opt/anaconda3/lib/python3.9/site-packages/sklearn/model_selection/_search.py:969: UserWarning: One or more of the test scores are non-finite: [0.92261209        nan 0.96485659 0.94555834 0.96131997        nan\n",
      " 0.97891024 0.97364708 0.96835608        nan 0.97539218 0.97539218\n",
      " 0.96662025        nan 0.97011974 0.97011974 0.96134781        nan\n",
      " 0.96661097 0.96661097]\n",
      "  warnings.warn(\n"
     ]
    }
   ],
   "source": [
    "from sklearn.model_selection import GridSearchCV\n",
    "\n",
    "params={'solver':['liblinear', 'lbfgs'],\n",
    "        'penalty':['l1', 'l2'],\n",
    "        'C':[0.01, 0.1, 1, 5, 10]}\n",
    "\n",
    "lr_clf = LogisticRegression()\n",
    "\n",
    "grid_clf = GridSearchCV(lr_clf, param_grid = params, scoring = 'accuracy', cv = 3)\n",
    "grid_clf.fit(data_scaled, cancer.target)\n",
    "print('최적 하이퍼 파라미터 : {0}, 최적 평균 정확도 : {1:.3f}'.format(grid_clf.best_params_,\n",
    "                                                      grid_clf.best_score_))"
   ]
  },
  {
   "cell_type": "code",
   "execution_count": null,
   "id": "9611a85b-a81b-4360-a48e-27db453db2d6",
   "metadata": {},
   "outputs": [],
   "source": []
  }
 ],
 "metadata": {
  "kernelspec": {
   "display_name": "Python 3 (ipykernel)",
   "language": "python",
   "name": "python3"
  },
  "language_info": {
   "codemirror_mode": {
    "name": "ipython",
    "version": 3
   },
   "file_extension": ".py",
   "mimetype": "text/x-python",
   "name": "python",
   "nbconvert_exporter": "python",
   "pygments_lexer": "ipython3",
   "version": "3.9.12"
  }
 },
 "nbformat": 4,
 "nbformat_minor": 5
}
